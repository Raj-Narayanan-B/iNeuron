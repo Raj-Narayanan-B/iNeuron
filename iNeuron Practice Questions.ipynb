{
 "cells": [
  {
   "cell_type": "markdown",
   "id": "d34f14e5",
   "metadata": {},
   "source": [
    "#### Q1. WAP to accept two numbers from the user and display their sum"
   ]
  },
  {
   "cell_type": "code",
   "execution_count": 19,
   "id": "aa958e81",
   "metadata": {},
   "outputs": [
    {
     "name": "stdout",
     "output_type": "stream",
     "text": [
      "Enter A: 1\n",
      "Enter B: 2\n",
      "Sum is:  3\n"
     ]
    }
   ],
   "source": [
    "print('Sum is: ',int(input(\"Enter A: \"))+int(input(\"Enter B: \")))"
   ]
  },
  {
   "cell_type": "markdown",
   "id": "d42ac60a",
   "metadata": {},
   "source": [
    "#### Q2. WAP to accept radius of a Circle from the user and calculate area and circumference"
   ]
  },
  {
   "cell_type": "code",
   "execution_count": 20,
   "id": "9ca56bb9",
   "metadata": {},
   "outputs": [
    {
     "name": "stdout",
     "output_type": "stream",
     "text": [
      "Enter radius: 4\n",
      "Area is: 50.265482 \n",
      "Circumference is 25.132741\n"
     ]
    }
   ],
   "source": [
    "import math\n",
    "r=int(input(\"Enter radius: \"))\n",
    "print(\"Area is: %f\"%(math.pi*r**2),\"\\nCircumference is %f\"%(2*math.pi*r))"
   ]
  },
  {
   "cell_type": "markdown",
   "id": "f84ccca9",
   "metadata": {},
   "source": [
    "#### Q3. WAP to accept roll number , grade and percentage as input from the user and display it back\n"
   ]
  },
  {
   "cell_type": "code",
   "execution_count": 21,
   "id": "9938a0b8",
   "metadata": {},
   "outputs": [
    {
     "name": "stdout",
     "output_type": "stream",
     "text": [
      "Enter Roll No.: 27\n",
      "Enter Grade: A+\n",
      "Enter Percentage: 98\n",
      "\n",
      "Entered Details are:\n",
      "Roll Number : 27\n",
      "Grade : A+\n",
      "Percentage : 98.0\n"
     ]
    }
   ],
   "source": [
    "stud={'Roll Number':int(input(\"Enter Roll No.: \")),\n",
    "     'Grade':input(\"Enter Grade: \"),\n",
    "     'Percentage':float(input(\"Enter Percentage: \"))}\n",
    "print(\"\\nEntered Details are:\")\n",
    "for key, value in stud.items():\n",
    "    print(key,\":\",value)"
   ]
  },
  {
   "cell_type": "markdown",
   "id": "7fbc9f0d",
   "metadata": {},
   "source": [
    "#### Q4. Write a program that asks the user to enter his/her name and age. Print out a message , displaying the user’s name along with the year in which they will turn 100 years old.\n",
    "\n"
   ]
  },
  {
   "cell_type": "code",
   "execution_count": 22,
   "id": "60cb2575",
   "metadata": {},
   "outputs": [
    {
     "name": "stdout",
     "output_type": "stream",
     "text": [
      "Enter Age: 27\n",
      "Will be 100 yrs old in 2095\n"
     ]
    }
   ],
   "source": [
    "from datetime import date\n",
    "age=int(input(\"Enter Age: \"))\n",
    "print(\"Will be 100 yrs old in %d\"%(date.today().year+(100-age)))"
   ]
  },
  {
   "cell_type": "markdown",
   "id": "8a278849",
   "metadata": {},
   "source": [
    "#### Q5. Write a program that asks the user to input 2 integers and adds them . Accept both the numbers in a single line only"
   ]
  },
  {
   "cell_type": "code",
   "execution_count": 23,
   "id": "22bc113f",
   "metadata": {},
   "outputs": [
    {
     "name": "stdout",
     "output_type": "stream",
     "text": [
      "Enter number 1: 12\n",
      "Enter number 2: 3\n",
      "sum is:  15\n"
     ]
    }
   ],
   "source": [
    "# Using List Comprehension\n",
    "numbers=[int(input(\"Enter number %d: \"%(i+1))) for i in range(2)]\n",
    "print(\"sum is: \",sum(numbers))"
   ]
  },
  {
   "cell_type": "code",
   "execution_count": 24,
   "id": "76afb16b",
   "metadata": {},
   "outputs": [
    {
     "name": "stdout",
     "output_type": "stream",
     "text": [
      "Enter A & B (with spacing): 12 3\n",
      "Sum is: 15\n"
     ]
    }
   ],
   "source": [
    "# Using Split()\n",
    "numbers1=input(\"Enter A & B (with spacing): \").split()\n",
    "print(\"Sum is:\",int(numbers1[0])+int(numbers1[1]))"
   ]
  },
  {
   "cell_type": "markdown",
   "id": "150d84fe",
   "metadata": {},
   "source": [
    "#### Q6. Write a Python program which accepts the user's first and last name and print them in reverse order with a space between them.\n"
   ]
  },
  {
   "cell_type": "code",
   "execution_count": 26,
   "id": "5cdbf460",
   "metadata": {},
   "outputs": [
    {
     "name": "stdout",
     "output_type": "stream",
     "text": [
      "Enter first name: Raj\n",
      "Enter last name: Narayanan\n",
      "jaR nanayaraN\n"
     ]
    }
   ],
   "source": [
    "first_name=input(\"Enter first name: \")\n",
    "last_name=input(\"Enter last name: \")\n",
    "print(first_name[::-1],last_name[::-1])"
   ]
  },
  {
   "cell_type": "markdown",
   "id": "d1e5785e",
   "metadata": {},
   "source": [
    "#### Q7. WAP to accept an integer from the user and check whether it is an even or odd "
   ]
  },
  {
   "cell_type": "code",
   "execution_count": 27,
   "id": "afe88cb1",
   "metadata": {
    "scrolled": true
   },
   "outputs": [
    {
     "name": "stdout",
     "output_type": "stream",
     "text": [
      "Enter number: 45\n",
      "Odd\n"
     ]
    }
   ],
   "source": [
    "a=int(input(\"Enter number: \"))\n",
    "if a%2==0:\n",
    "    print(\"Even\")\n",
    "else:\n",
    "    print(\"Odd\")"
   ]
  },
  {
   "cell_type": "markdown",
   "id": "f9c505f7",
   "metadata": {},
   "source": [
    "#### Q8. WAP to accept a character from the user and check whether it is a capital letter or small letter. Assume user will input only alphabets"
   ]
  },
  {
   "cell_type": "code",
   "execution_count": 28,
   "id": "e6c5db1e",
   "metadata": {},
   "outputs": [
    {
     "name": "stdout",
     "output_type": "stream",
     "text": [
      "Enter Char: RAj\n",
      "Uppercase\n"
     ]
    }
   ],
   "source": [
    "import string\n",
    "char=input(\"Enter Char: \")\n",
    "flag=0\n",
    "for i in char:\n",
    "    if i in string.ascii_uppercase:\n",
    "        flag=1\n",
    "if flag==1:\n",
    "    print(\"Uppercase\")\n",
    "else:\n",
    "    print(\"Lowercase\")"
   ]
  },
  {
   "cell_type": "markdown",
   "id": "f5ccdfa6",
   "metadata": {},
   "source": [
    "#### Q9. WAP to accept a character from the user and check whether it is a capital letter or small letter or a digit or some special symbol"
   ]
  },
  {
   "cell_type": "code",
   "execution_count": 29,
   "id": "3c139eec",
   "metadata": {},
   "outputs": [
    {
     "name": "stdout",
     "output_type": "stream",
     "text": [
      "Enter char: RASR*(J9783(*&()_\n",
      "Alpha-Numeric Symbol\n"
     ]
    }
   ],
   "source": [
    "char=input(\"Enter char: \")\n",
    "flag=0 #flag used for checking if char is Upper or lower case\n",
    "pflag=0 #punctuaion flag used for checking any of the char entered is present in punctuation\n",
    "dflag=0 #digit flag used to check if any of the char entered contains digit in it\n",
    "if char.isalpha():\n",
    "    for i in char:\n",
    "        if i in string.ascii_uppercase:\n",
    "            flag=1\n",
    "    if flag==1:\n",
    "        print(\"Alpha-Uppercase\")\n",
    "    elif flag==0:\n",
    "        print(\"Alpha-Lowercase\")\n",
    "elif char.isnumeric():\n",
    "    print(\"Numeric\")\n",
    "elif char.isalnum():\n",
    "    print(\"Alpha-Numeric\")\n",
    "else:\n",
    "    for i in char:\n",
    "        if i in string.punctuation:\n",
    "            pflag=1\n",
    "        if i in string.digits:\n",
    "            dflag=1\n",
    "        if i in string.ascii_letters:\n",
    "            flag=1\n",
    "if pflag==1 & dflag==1 & flag==1:\n",
    "    print('Alpha-Numeric Symbol')\n",
    "elif pflag==1 & flag==1:\n",
    "    print(\"Alpha-Symbolic\")\n",
    "elif pflag==1 & dflag==1:\n",
    "    print('Numeric Symbol')\n",
    "elif pflag==1:\n",
    "    print('Symbol')"
   ]
  },
  {
   "cell_type": "markdown",
   "id": "9e4cf440",
   "metadata": {},
   "source": [
    "#### Q10. WAP to accept 3 integers from the user and without using any logical operator and cascading of relational operators , find out the greatest number amongst them"
   ]
  },
  {
   "cell_type": "code",
   "execution_count": 30,
   "id": "9d479187",
   "metadata": {},
   "outputs": [
    {
     "name": "stdout",
     "output_type": "stream",
     "text": [
      "Enter number 1: 2\n",
      "Enter number 2: 5\n",
      "Enter number 3: 2\n",
      "\n",
      "Greatest is:  5\n"
     ]
    }
   ],
   "source": [
    "numbers=[int(input(\"Enter number %d: \"%(i+1))) for i in range(3)]\n",
    "print(\"\\nGreatest is: \",max(numbers))"
   ]
  },
  {
   "cell_type": "markdown",
   "id": "513b2398",
   "metadata": {},
   "source": [
    "#### Q11. WAP to accept a year from the user and check whether it is a leap year or not.\n"
   ]
  },
  {
   "cell_type": "code",
   "execution_count": 31,
   "id": "4e3edc95",
   "metadata": {},
   "outputs": [
    {
     "name": "stdout",
     "output_type": "stream",
     "text": [
      "Enter year: 2100\n",
      "2100  is not a leap year\n"
     ]
    }
   ],
   "source": [
    "year=int(input(\"Enter year: \"))\n",
    "if (year % 400 == 0) and (year % 100 == 0):\n",
    "    print(year,\" is a leap year\")\n",
    "elif (year % 4 ==0) and (year % 100 != 0):\n",
    "    print(year,\" is a leap year\")\n",
    "else:\n",
    "    print(year,\" is not a leap year\")"
   ]
  },
  {
   "cell_type": "markdown",
   "id": "cc5f6f51",
   "metadata": {},
   "source": [
    "#### Q12. Number guessing game"
   ]
  },
  {
   "cell_type": "code",
   "execution_count": 32,
   "id": "a2fc7ae4",
   "metadata": {},
   "outputs": [
    {
     "name": "stdout",
     "output_type": "stream",
     "text": [
      "12\n",
      "\n",
      "Guess the number: 11\n",
      "---Number too small---\n",
      "\n",
      "Continue? (YES means 1) (N0 means <=0 or >1): 1\n",
      "\n",
      "Guess the number: 13\n",
      "---Number too large---\n",
      "\n",
      "Continue? (YES means 1) (N0 means <=0 or >1): 1\n",
      "\n",
      "Guess the number: 12\n",
      "---Number is correct---\n"
     ]
    }
   ],
   "source": [
    "import random\n",
    "choice=1\n",
    "num=random.randint(0,100)\n",
    "print(num)\n",
    "while(choice==1):\n",
    "    a=int(input(\"\\nGuess the number: \"))\n",
    "    if a==num:\n",
    "        print('---Number is correct---')\n",
    "        break\n",
    "    elif a<num:\n",
    "        print('---Number too small---')\n",
    "    elif a>num:\n",
    "        print('---Number too large---')\n",
    "    choice=int(input('\\nContinue? (YES means 1) (N0 means <=0 or >1): '))"
   ]
  },
  {
   "cell_type": "markdown",
   "id": "039d7b04",
   "metadata": {},
   "source": [
    "#### Q13. Write a program to accept a string from the user and display it vertically but don’t display the vowels in it.\n"
   ]
  },
  {
   "cell_type": "code",
   "execution_count": 33,
   "id": "a8820710",
   "metadata": {},
   "outputs": [
    {
     "name": "stdout",
     "output_type": "stream",
     "text": [
      "Enter string: Raj Narayanan\n",
      "R\n",
      "j\n",
      " \n",
      "N\n",
      "r\n",
      "y\n",
      "n\n",
      "n\n"
     ]
    }
   ],
   "source": [
    "char=input(\"Enter string: \") #Raj\n",
    "char=char.replace('a','').replace('e','').replace('i','').replace('o','').replace('u','').replace('A','').replace('E','').replace('I','').replace('O','').replace('U','')\n",
    "for i in char:\n",
    "    print(i)"
   ]
  },
  {
   "cell_type": "markdown",
   "id": "a7fe02f2",
   "metadata": {},
   "source": [
    "#### Q14. Write a program to continuously accept integers from the user until the user types 0 and as soon as 0 is entered display sum of all the nos entered before 0\n",
    "##### Note:Modify the previous code so that if the user inputs a negative integer , your program should ignore it .\n"
   ]
  },
  {
   "cell_type": "code",
   "execution_count": 34,
   "id": "4913f35a",
   "metadata": {},
   "outputs": [
    {
     "name": "stdout",
     "output_type": "stream",
     "text": [
      "Enter numbers (0 means exit)\n",
      "1\n",
      "2\n",
      "3\n",
      "-3\n",
      "-2\n",
      "4\n",
      "0\n",
      "Sum is:  10\n"
     ]
    }
   ],
   "source": [
    "sum=0\n",
    "print(\"Enter numbers (0 means exit)\")\n",
    "while(True):\n",
    "    i=int(input())\n",
    "    if i!=0:\n",
    "        if i<0:\n",
    "            continue\n",
    "        else:\n",
    "            sum+=i\n",
    "    else:\n",
    "        break\n",
    "print(\"Sum is: \",sum)"
   ]
  },
  {
   "cell_type": "markdown",
   "id": "76c96ea3",
   "metadata": {},
   "source": [
    "#### Q15. Write a program using a for loop to accept a string from the user and display it vertically but don’t display the vowels in it."
   ]
  },
  {
   "cell_type": "code",
   "execution_count": 35,
   "id": "0a9cf2ee",
   "metadata": {},
   "outputs": [
    {
     "name": "stdout",
     "output_type": "stream",
     "text": [
      "Enter string: RAj NARayanan\n",
      "R\n",
      "j\n",
      " \n",
      "N\n",
      "R\n",
      "y\n",
      "n\n",
      "n\n"
     ]
    }
   ],
   "source": [
    "char=input(\"Enter string: \")\n",
    "for i in char:\n",
    "    if i not in 'aeiouAEIOU':\n",
    "        print(i)"
   ]
  },
  {
   "cell_type": "markdown",
   "id": "826b32d1",
   "metadata": {},
   "source": [
    "#### Q16. Write a program to accept an integer from the user and display the sum of all the numbers from 1 to that number.\n"
   ]
  },
  {
   "cell_type": "code",
   "execution_count": 46,
   "id": "3e5b5618",
   "metadata": {},
   "outputs": [
    {
     "name": "stdout",
     "output_type": "stream",
     "text": [
      "Enter Number: 5\n",
      "Sum is:  15\n"
     ]
    }
   ],
   "source": [
    "sum=0\n",
    "for i in range(1,int(input(\"Enter Number: \"))+1):\n",
    "    sum+=i\n",
    "print(\"Sum is: \",sum)"
   ]
  },
  {
   "cell_type": "markdown",
   "id": "d7e6632b",
   "metadata": {},
   "source": [
    "#### Q17. Write a program to accept an integer from the user and calculate its factorial"
   ]
  },
  {
   "cell_type": "code",
   "execution_count": 102,
   "id": "9a94bb96",
   "metadata": {},
   "outputs": [
    {
     "name": "stdout",
     "output_type": "stream",
     "text": [
      "Enter Number: 7\n",
      "Factorial is:  5040\n"
     ]
    }
   ],
   "source": [
    "fact=1\n",
    "num=int(input(\"Enter Number: \"))\n",
    "if num==0:\n",
    "    print('Factorial is: 0')\n",
    "elif num<0:\n",
    "    print(\"Factorial not possible for -ve number\")\n",
    "else:\n",
    "    for i in range(1,num+1):\n",
    "        fact*=i\n",
    "    print(\"Factorial is: \",fact)"
   ]
  },
  {
   "cell_type": "markdown",
   "id": "b3e458b3",
   "metadata": {},
   "source": [
    "#### Q18. Write a program to print the following pattern \n"
   ]
  },
  {
   "attachments": {
    "Picture2.png": {
     "image/png": "[encoded data removed]"
    }
   },
   "cell_type": "markdown",
   "id": "c6b34b3a",
   "metadata": {},
   "source": [
    "![Picture2.png](attachment:Picture2.png)"
   ]
  },
  {
   "cell_type": "code",
   "execution_count": 111,
   "id": "19583537",
   "metadata": {},
   "outputs": [
    {
     "name": "stdout",
     "output_type": "stream",
     "text": [
      "* * * \n",
      "* * * \n",
      "* * * \n",
      "* * * \n"
     ]
    }
   ],
   "source": [
    "for i in range(4):\n",
    "    for j in range(3):\n",
    "        print(\"*\",end=\" \")\n",
    "    print('')"
   ]
  },
  {
   "cell_type": "markdown",
   "id": "53ff0dce",
   "metadata": {},
   "source": [
    "#### Q19. Write a program to print the following pattern \n"
   ]
  },
  {
   "attachments": {
    "Picture3.png": {
     "image/png": "[encoded data removed]"
    }
   },
   "cell_type": "markdown",
   "id": "84d03617",
   "metadata": {},
   "source": [
    "![Picture3.png](attachment:Picture3.png)"
   ]
  },
  {
   "cell_type": "code",
   "execution_count": 113,
   "id": "c2c26648",
   "metadata": {},
   "outputs": [
    {
     "name": "stdout",
     "output_type": "stream",
     "text": [
      "* \n",
      "* * \n",
      "* * * \n",
      "* * * * \n"
     ]
    }
   ],
   "source": [
    "for i in range(4):\n",
    "    for j in range(i+1):\n",
    "        print(\"*\",end=\" \")\n",
    "    print('')"
   ]
  },
  {
   "cell_type": "markdown",
   "id": "154f361e",
   "metadata": {},
   "source": [
    "#### Q20. Write a program to print the following pattern \n"
   ]
  },
  {
   "attachments": {
    "Picture4.png": {
     "image/png": "[encoded data removed]"
    }
   },
   "cell_type": "markdown",
   "id": "ed0895f5",
   "metadata": {},
   "source": [
    "![Picture4.png](attachment:Picture4.png)"
   ]
  },
  {
   "cell_type": "code",
   "execution_count": 146,
   "id": "6f178175",
   "metadata": {},
   "outputs": [
    {
     "name": "stdout",
     "output_type": "stream",
     "text": [
      "* * * *\n",
      "* * *\n",
      "* *\n",
      "*\n"
     ]
    }
   ],
   "source": [
    "for i in range(-4,0):\n",
    "    for j in range(i+1,0):\n",
    "        print(\"*\",end=' ')\n",
    "    print('*')"
   ]
  },
  {
   "cell_type": "markdown",
   "id": "9eae7f69",
   "metadata": {},
   "source": [
    "#### Q21. Write a program to accept an integer from the user and display all the numbers from 1 to that number. Repeat the process until the user enters 0."
   ]
  },
  {
   "cell_type": "code",
   "execution_count": 151,
   "id": "191b778e",
   "metadata": {},
   "outputs": [
    {
     "name": "stdout",
     "output_type": "stream",
     "text": [
      "Enter number: 4\n",
      "1\n",
      "2\n",
      "3\n",
      "4\n",
      "Would you like to restart? (NO=0) (YES!=0): 4\n",
      "Enter number: 6\n",
      "1\n",
      "2\n",
      "3\n",
      "4\n",
      "5\n",
      "6\n",
      "Would you like to restart? (NO=0) (YES!=0): 0\n"
     ]
    }
   ],
   "source": [
    "choice=1\n",
    "while choice!=0:\n",
    "    for i in range(1,int(input('Enter number: '))+1):\n",
    "        print(i)\n",
    "    choice=int(input(\"Would you like to restart? (NO=0) (YES!=0): \"))"
   ]
  },
  {
   "cell_type": "code",
   "execution_count": null,
   "id": "f54b45e6",
   "metadata": {},
   "outputs": [],
   "source": []
  }
 ],
 "metadata": {
  "kernelspec": {
   "display_name": "Python 3 (ipykernel)",
   "language": "python",
   "name": "python3"
  },
  "language_info": {
   "codemirror_mode": {
    "name": "ipython",
    "version": 3
   },
   "file_extension": ".py",
   "mimetype": "text/x-python",
   "name": "python",
   "nbconvert_exporter": "python",
   "pygments_lexer": "ipython3",
   "version": "3.9.12"
  }
 },
 "nbformat": 4,
 "nbformat_minor": 5
}
